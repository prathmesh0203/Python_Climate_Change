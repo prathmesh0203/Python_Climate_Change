{
  "cells": [
    {
      "cell_type": "markdown",
      "id": "fho3VXMeiDsG",
      "metadata": {
        "id": "fho3VXMeiDsG"
      },
      "source": [
        "# HS4007 Project - Group 15\n",
        "\n",
        "# **Topic** - Climate Change and Cooperation\n"
      ]
    },
    {
      "cell_type": "markdown",
      "id": "vJpGLVBfR51j",
      "metadata": {
        "id": "vJpGLVBfR51j"
      },
      "source": [
        "**Motivation**\n",
        "\n",
        "-Game theory offers a lot to whether or not countries decide to engage in \n",
        "climate action.\n",
        "\n",
        "-The “players” end up being the individual countries that try to choose options that would help them secure the best outcomes for themselves.\n",
        "\n",
        "-They then engage in “games” that embrace the idea of interdependence where the outcomes for the “players” or countries depend on what strategies others act on.\n",
        "\n",
        "-Climate change can be treated as an iterated game where there is a common-pool resource that is available to everyone. If managed correctly, these resources can sustain and provide value to many parties, but when too much is taken too quickly, the resource can easily be depleted.\n",
        "\n",
        "-Therefore, the “game” must be set up in a way to reward cooperation and stop individual “players” from free riding from other’s contributions.\n",
        "\n",
        "-We will try to recreate the results from the paper  \"Climate change governance, cooperation and self-organization\""
      ]
    },
    {
      "cell_type": "markdown",
      "id": "mbRV9qmNiFnu",
      "metadata": {
        "id": "mbRV9qmNiFnu"
      },
      "source": [
        "**Context**\n",
        "\n",
        "The most recent report of the Intergovernmental Panel on Climate Change (IPCC) accumulates evidence that human activity is responsible for most of the Global Warming we have witnessed since the 50s. The recent World summits set up to work out a solution to Global Warming have added up to a (now) long list of unsuccessful attempts to solve the Climate Change problem. Despite  i) the actual risk of collective disaster, ii) the scientific consensus that anthropogenic greenhouse gas (GHG) emissions perturb global climate patterns with negative consequences for many ecosystems and iii) the predictions of early warning signals and severe climate change consequences that are already in place, such as increased occurrence of heat waves and droughts .\n",
        "\n",
        "\n"
      ]
    },
    {
      "cell_type": "markdown",
      "id": "z12yMoN_iGD4",
      "metadata": {
        "id": "z12yMoN_iGD4"
      },
      "source": [
        "**Problem Statement** - *The Game We Cannot Afford to Lose*\n",
        "\n",
        "We want to use Evolutionary Game Theory to model how a group of N people interact in a Public Goods Game (PGG) where there is an introduced risk factor. We take into account how individual behaviors change over time based on the decisions and achievements of others, which influence one's own decisions. This process is described in the framework of EGT. \n",
        "Additionally, we want consider the dynamics of small and finite populations and incorporate spontaneous exploration of possible strategies, which adds to the overall randomness of the process. \n"
      ]
    },
    {
      "cell_type": "markdown",
      "id": "SYgm6cmOSqCb",
      "metadata": {
        "id": "SYgm6cmOSqCb"
      },
      "source": [
        "**The Model**\n",
        "\n",
        "The research paper describes a model where individuals in a population of size N. Each individual has an initial endowment b and is classified as either a Cooperator (C) or a Defector (D) based on their behavior regarding climate issues. Cooperators contribute a fraction cb of their endowment, while Defectors do not contribute anything. The goal is to reach a certain threshold of contributions to the public good             , and if successful, all participants keep their endowments. If the threshold is not met, with a probability of r (the risk of collective disaster), everyone in the group loses their endowment.\n",
        "\n",
        "  We adopt a dynamical approach, in which individuals revise their strategies through peer-influence, copying others whenever these appear to be more successful. Such social learning (or evolutionary, in the sense of cultural evolution) approach allows policies to change in time as individuals are influenced by the behavior (and achievements) of others, something one actually witnesses in the context of donations to public goods . This also takes into account the fact that agreements may be vulnerable to renegotiation.\n"
      ]
    },
    {
      "cell_type": "markdown",
      "id": "VWCJSP612uEj",
      "metadata": {
        "id": "VWCJSP612uEj"
      },
      "source": [
        "The payoff of **D**'s and **C**'s are given by :\n",
        "\n",
        "\n",
        "$ P ^D(j_C) = b𝛩(j_c - n_{pg}) + (1-r)b(1-𝛩(j_c-n_{ng}))$\n",
        "\n",
        "\n",
        "$P^C(j_c) = P^D(j_c) -cb $  "
      ]
    },
    {
      "cell_type": "markdown",
      "id": "kftq80dnS6Kr",
      "metadata": {
        "id": "kftq80dnS6Kr"
      },
      "source": [
        "# **Code for the Model ->**"
      ]
    },
    {
      "cell_type": "code",
      "execution_count": null,
      "id": "b6269c46",
      "metadata": {
        "id": "b6269c46"
      },
      "outputs": [],
      "source": [
        "import numpy as np\n",
        "import matplotlib.pyplot as plt\n",
        "from IPython.display import display, Math, Latex"
      ]
    },
    {
      "cell_type": "code",
      "execution_count": null,
      "id": "58e6a21b",
      "metadata": {
        "id": "58e6a21b"
      },
      "outputs": [],
      "source": [
        "c =0.2;\n",
        "b =10000;\n",
        "\n",
        "def payoff_defactors(j_c ,n_pg ,r = 0.5 ,b =10000 ):\n",
        "    return b*np.heaviside(j_c - n_pg ,0) + (1-r)*b*(1 - np.heaviside(j_c -n_pg ,0))\n",
        "\n",
        "def payoff_cooperators(j_c ,n_pg ,r =0.5 ,b =10000 ):\n",
        "    return payoff_defactors(j_c ,n_pg) -c*b"
      ]
    },
    {
      "cell_type": "code",
      "execution_count": null,
      "id": "c302c422",
      "metadata": {
        "id": "c302c422",
        "outputId": "abdc2dc4-9f6f-4ab2-aeb0-c27825ef056c"
      },
      "outputs": [
        {
          "data": {
            "image/png": "[encoded data removed]",
            "text/plain": [
              "<Figure size 432x288 with 1 Axes>"
            ]
          },
          "metadata": {
            "needs_background": "light"
          },
          "output_type": "display_data"
        }
      ],
      "source": [
        "j_c = np.arange(0 ,1000)\n",
        "plt.plot(payoff_defactors(j_c ,500 ,0.5) ,label = 'Defectors')\n",
        "plt.plot(payoff_cooperators(j_c ,500 ,0.5),'c' ,label = 'Cooperators')\n",
        "plt.title('Payoff for Players :risk = 0.5 ,$n_{pg}$ = .5 ,c = 0.2 ,b = $10^4$ ')\n",
        "plt.xlabel('$n_{pg}cb$')\n",
        "plt.ylabel('payoff')\n",
        "plt.legend()\n",
        "plt.savefig(f'/home/sachudeva/Documents/jupyter/comp_eco/payoff_plot',transparent = False)\n",
        "plt.show()"
      ]
    },
    {
      "cell_type": "markdown",
      "id": "Gtklyeu68wd7",
      "metadata": {
        "id": "Gtklyeu68wd7"
      },
      "source": [
        "The fitness function used in this code (Different but similar to the paper:\n",
        "\n",
        "$ f_i = \\frac{1}{1+\\exp\\beta *\\text{payoff} }$"
      ]
    },
    {
      "cell_type": "code",
      "execution_count": null,
      "id": "59823f33",
      "metadata": {
        "id": "59823f33"
      },
      "outputs": [],
      "source": [
        "\n",
        "# Set up the transition probabilities\n",
        "def fermi_prob(beta, delta_fitness ,mu = 0.005):\n",
        "    \"\"\"\n",
        "    Returns the probability of a player switching to a new strategy based on the Fermi rule.\n",
        "    \"\"\"\n",
        "    return (1 - mu) / (1 + np.exp(beta * delta_fitness))\n"
      ]
    },
    {
      "cell_type": "code",
      "execution_count": null,
      "id": "3fe494f5",
      "metadata": {
        "id": "3fe494f5",
        "outputId": "bdbe8a45-d731-4fe9-9e2b-2ad643767b17"
      },
      "outputs": [
        {
          "name": "stdout",
          "output_type": "stream",
          "text": [
            "Final strategy distribution:\n",
            "C: 12\n",
            "D: 988\n"
          ]
        }
      ],
      "source": [
        "# Set up the initial population\n",
        "np.random.seed(1729)\n",
        "num_players = 1000\n",
        "strategies = np.random.choice(['C', 'D'], size=num_players)  # randomly assign each player as C or D\n",
        "fitnesses = np.zeros(num_players)  # initialize fitnesses to 0\n",
        "j_c= np.count_nonzero(strategies == 'C')  # count the number of players who chose to cooperate\n",
        "list_c = [];\n",
        "list_d = [];\n",
        "# Simulate the game\n",
        "num_iterations = 1000\n",
        "beta = 1  # parameter for the Fermi rule\n",
        "\n",
        "risk = 1\n",
        "for i in range(num_iterations):\n",
        "    # Calculate each player's fitness based on their current strategy\n",
        "    for j in range(num_players):\n",
        "        # Calculate the total payoff for the player based on their strategy and the strategies of the other players\n",
        "        if strategies[j] == 'C':\n",
        "            payoff = payoff_cooperators(j_c ,risk)\n",
        "        else:\n",
        "            payoff = payoff_defactors(j_c ,risk)\n",
        "        fitnesses[j] = 1 / (1 + np.exp(-beta * payoff))  # calculate fitness based on sigmoid function\n",
        "    \n",
        "    # Update each player's strategy based on the Fermi rule\n",
        "    for j in range(num_players):\n",
        "        k = np.random.randint(num_players)  # randomly choose another player to compare fitness with\n",
        "        delta_fitness = fitnesses[k] - fitnesses[j]\n",
        "        p = fermi_prob(beta, delta_fitness)\n",
        "        if np.random.rand() < p:\n",
        "            strategies[j] = strategies[k]  # update strategy if new strategy is chosen based on Fermi rule\n",
        "    j_c= np.count_nonzero(strategies == 'C') \n",
        "    list_c.append(j_c)\n",
        "    list_d.append(num_players-j_c)\n",
        "\n",
        "    \n",
        "# Print the final population distribution\n",
        "print(\"Final strategy distribution:\")\n",
        "print(\"C:\", (strategies == 'C').sum())\n",
        "print(\"D:\", (strategies == 'D').sum())\n"
      ]
    },
    {
      "cell_type": "code",
      "execution_count": null,
      "id": "07cb620d",
      "metadata": {
        "id": "07cb620d",
        "outputId": "5d221dcf-63d0-4a30-ae0d-0f56bcb482ae"
      },
      "outputs": [
        {
          "data": {
            "text/plain": [
              "[<matplotlib.lines.Line2D at 0x7f53e7db7b20>]"
            ]
          },
          "execution_count": 308,
          "metadata": {},
          "output_type": "execute_result"
        },
        {
          "data": {
            "image/png": "[encoded data removed]",
            "text/plain": [
              "<Figure size 432x288 with 1 Axes>"
            ]
          },
          "metadata": {
            "needs_background": "light"
          },
          "output_type": "display_data"
        }
      ],
      "source": [
        "plt.plot(list_c)\n",
        "plt.plot(list_d)"
      ]
    },
    {
      "cell_type": "code",
      "execution_count": null,
      "id": "0f0f295c",
      "metadata": {
        "id": "0f0f295c"
      },
      "outputs": [],
      "source": [
        "import pandas as pd\n",
        "n_rolling_period = num_iterations/10"
      ]
    },
    {
      "cell_type": "code",
      "execution_count": null,
      "id": "faa1596c",
      "metadata": {
        "id": "faa1596c"
      },
      "outputs": [],
      "source": [
        "# Set up the initial population\n",
        "\n",
        "def game (num_players ,risk ,num_iterations =500,n_pg = 0.5 ,beta =1):\n",
        "    np.random.seed(1725)\n",
        "    strategies = np.random.choice(['C', 'D'], size=num_players)  # randomly assign each player as C or D\n",
        "    fitnesses = np.zeros(num_players)  # initialize fitnesses to 0\n",
        "    j_c= np.count_nonzero(strategies == 'C')  # count the number of players who chose to cooperate\n",
        "    pop_list =[];\n",
        "    for i in range(num_iterations):\n",
        "        # Calculate each player's fitness based on their current strategy\n",
        "        for j in range(num_players):\n",
        "            # Calculate the total payoff for the player based on their strategy and the strategies of the other players\n",
        "            if strategies[j] == 'C':\n",
        "                payoff = payoff_cooperators(j_c ,num_players*n_pg ,risk )\n",
        "            else:\n",
        "                payoff = payoff_defactors(j_c  ,num_players*n_pg ,risk)\n",
        "            \n",
        "            fitnesses[j] = 1 / (1 + np.exp(-beta * payoff))  # calculate fitness based on sigmoid function\n",
        "\n",
        "        # Update each player's strategy based on the Fermi rule\n",
        "        for j in range(num_players):\n",
        "            k = np.random.randint(num_players)  # randomly choose another player to compare fitness with\n",
        "            delta_fitness = fitnesses[k] - fitnesses[j]\n",
        "            p = fermi_prob(beta, delta_fitness)\n",
        "            if np.random.rand() < p:\n",
        "                strategies[j] = strategies[k]  # update strategy if new strategy is chosen based on Fermi rule\n",
        "        j_c= np.count_nonzero(strategies == 'C') \n",
        "        pop_list.append(j_c)\n",
        "    print(\"Final strategy distribution:\")\n",
        "    print(\"C:\", (strategies == 'C').sum())\n",
        "    print(\"D:\", (strategies == 'D').sum())\n",
        "    return pop_list\n",
        "    \n"
      ]
    },
    {
      "cell_type": "code",
      "execution_count": null,
      "id": "689c0a3f",
      "metadata": {
        "id": "689c0a3f"
      },
      "outputs": [],
      "source": [
        "risk_1 = 0.90\n",
        "num_iter_1 = 3000"
      ]
    },
    {
      "cell_type": "code",
      "execution_count": null,
      "id": "5ee120fc",
      "metadata": {
        "id": "5ee120fc",
        "outputId": "a2966899-38f6-4b70-c3e4-a118311f3382"
      },
      "outputs": [
        {
          "name": "stdout",
          "output_type": "stream",
          "text": [
            "Final strategy distribution:\n",
            "C: 1000\n",
            "D: 0\n"
          ]
        }
      ],
      "source": [
        "list_c_1000 = pd.Series(game(1000 ,risk_1,num_iter_1))/100"
      ]
    },
    {
      "cell_type": "code",
      "execution_count": null,
      "id": "f84efe73",
      "metadata": {
        "id": "f84efe73",
        "outputId": "b46fd505-53b2-4b71-9b32-62a872dce800"
      },
      "outputs": [
        {
          "name": "stdout",
          "output_type": "stream",
          "text": [
            "Final strategy distribution:\n",
            "C: 0\n",
            "D: 2000\n"
          ]
        }
      ],
      "source": [
        "list_c_2000 = pd.Series(game(2000 ,risk_1 ,num_iter_1))/200"
      ]
    },
    {
      "cell_type": "code",
      "execution_count": null,
      "id": "82000e70",
      "metadata": {
        "id": "82000e70",
        "outputId": "69b03528-0239-4794-8c42-0556cf652ded"
      },
      "outputs": [
        {
          "name": "stdout",
          "output_type": "stream",
          "text": [
            "Final strategy distribution:\n",
            "C: 3368\n",
            "D: 1632\n"
          ]
        }
      ],
      "source": [
        "list_c_5000 = pd.Series(game(5000,risk_1 ,num_iter_1))/500"
      ]
    },
    {
      "cell_type": "code",
      "execution_count": null,
      "id": "duZ4IKPT-ORt",
      "metadata": {
        "id": "duZ4IKPT-ORt"
      },
      "outputs": [],
      "source": []
    },
    {
      "cell_type": "markdown",
      "id": "0N4tD-rA-Mv4",
      "metadata": {
        "id": "0N4tD-rA-Mv4"
      },
      "source": [
        "**SCALE OF AGREEMENTS**"
      ]
    },
    {
      "cell_type": "code",
      "execution_count": null,
      "id": "2c5b8bb4",
      "metadata": {
        "id": "2c5b8bb4",
        "outputId": "0bdbe178-b3c6-4c2c-963b-5742824529db"
      },
      "outputs": [
        {
          "data": {
            "image/png": "[encoded data removed]",
            "text/plain": [
              "<Figure size 432x288 with 1 Axes>"
            ]
          },
          "metadata": {
            "needs_background": "light"
          },
          "output_type": "display_data"
        }
      ],
      "source": [
        "plt.plot(list_c_1000.rolling(window=100).mean().iloc[10-1:],label = 'Cooperators moving average ,N=1000')\n",
        "\n",
        "plt.plot(list_c_2000.rolling(window=100).mean().iloc[10-1:],label = 'Cooperators moving average ,N=2000')\n",
        "plt.plot(list_c_5000.rolling(window=100).mean().iloc[10-1:],label = 'Cooperators moving average ,N=5000')\n",
        "\n",
        "plt.legend(loc='lower left')\n",
        "plt.title('Populataion of cooperators and defectors : risk=%f' %risk_1 )\n",
        "plt.savefig(f'/home/sachudeva/Documents/jupyter/comp_eco/plot_risk90_N102050_1_differenseed')"
      ]
    },
    {
      "cell_type": "code",
      "execution_count": null,
      "id": "da4ad423",
      "metadata": {
        "id": "da4ad423",
        "outputId": "4bf64487-38af-48c0-d4ed-7d3acdef3fd4"
      },
      "outputs": [
        {
          "name": "stdout",
          "output_type": "stream",
          "text": [
            "Final strategy distribution:\n",
            "C: 200\n",
            "D: 0\n",
            "Final strategy distribution:\n",
            "C: 200\n",
            "D: 0\n"
          ]
        }
      ],
      "source": [
        "list_c_20 = pd.Series(game(200 ,0.40 ,num_iter_1 ,0.9))/200\n",
        "list_c_80 = pd.Series(game(200 ,0.80 ,num_iter_1 ,0.1))/200"
      ]
    },
    {
      "cell_type": "code",
      "execution_count": null,
      "id": "8156a26e",
      "metadata": {
        "id": "8156a26e",
        "outputId": "b6ac0d6b-085a-470a-92dc-1697bc2f8629"
      },
      "outputs": [
        {
          "name": "stdout",
          "output_type": "stream",
          "text": [
            "Final strategy distribution:\n",
            "C: 1000\n",
            "D: 0\n"
          ]
        }
      ],
      "source": [
        "list_c = game(1000 ,0.10 ,500)"
      ]
    },
    {
      "cell_type": "code",
      "execution_count": null,
      "id": "8a032435",
      "metadata": {
        "id": "8a032435"
      },
      "outputs": [],
      "source": [
        "list_c = pd.Series(list_c)"
      ]
    },
    {
      "cell_type": "code",
      "execution_count": null,
      "id": "daaa4bd3",
      "metadata": {
        "id": "daaa4bd3",
        "outputId": "61020923-acfc-42bb-b505-04245eb851a0"
      },
      "outputs": [
        {
          "data": {
            "text/plain": [
              "[<matplotlib.lines.Line2D at 0x7f53e6a8ea90>]"
            ]
          },
          "execution_count": 293,
          "metadata": {},
          "output_type": "execute_result"
        },
        {
          "data": {
            "image/png": "[encoded data removed]",
            "text/plain": [
              "<Figure size 432x288 with 1 Axes>"
            ]
          },
          "metadata": {
            "needs_background": "light"
          },
          "output_type": "display_data"
        }
      ],
      "source": [
        "plt.plot(list_c,label = 'Cooperators moving average ,Z=5')\n",
        "plt.plot(100-list_c,label = 'Cooperators moving average ,Z=2')"
      ]
    },
    {
      "cell_type": "markdown",
      "id": "m4r9Y2RAUp0x",
      "metadata": {
        "id": "m4r9Y2RAUp0x"
      },
      "source": [
        "**CONCLUSION**\n",
        "\n",
        "The paper describes a modeling approach to understanding decision-making processes related to environmental sustainability, with a focus on the uncertainty associated with collective action. The model is based on N-person evolutionary game theory and uses stochastic processes from non-equilibrium statistical mechanics to explore the impact of risk and different types of sanctioning in various configurations, including large and small groups and \n",
        "networked populations. The results suggest that the perception of risk plays a crucial role in successful coordination for the global good, and that a decentralized, polycentric, bottom-up approach involving multiple institutions may be better suited for ensuring cooperation and the maintenance of supervising institutions.\n",
        "\n",
        "The code aims to reproduce the results from existing papers with few changes.\n",
        "\n",
        "\n",
        "1.   The transition probability is changed such thatt it compare payoff wittth random agent in the population where the orginal function called for pairwise comparison witth all the agents\n",
        "2.  Also recreated the repeated game with different parameters and notes the \"phase transition\" of the optimal strategy \n",
        "3. We see that even wih the simple model described in he paper and the further simplification the model shows some rich behaviours and provides insights of \"complicated\" systems \n",
        " "
      ]
    },
    {
      "cell_type": "markdown",
      "id": "j0628g6VAzs6",
      "metadata": {
        "id": "j0628g6VAzs6"
      },
      "source": [
        "**REFRENCES**\n",
        "[Climate change governance, cooperation and self-organization](https://doi.org/10.1016/j.plrev.2014.02.003)"
      ]
    },
    {
      "cell_type": "markdown",
      "id": "_7P26HSySd-p",
      "metadata": {
        "id": "_7P26HSySd-p"
      },
      "source": [
        "### **END**"
      ]
    }
  ],
  "metadata": {
    "colab": {
      "provenance": []
    },
    "kernelspec": {
      "display_name": "Python 3 (ipykernel)",
      "language": "python",
      "name": "python3"
    },
    "language_info": {
      "codemirror_mode": {
        "name": "ipython",
        "version": 3
      },
      "file_extension": ".py",
      "mimetype": "text/x-python",
      "name": "python",
      "nbconvert_exporter": "python",
      "pygments_lexer": "ipython3",
      "version": "3.9.12"
    }
  },
  "nbformat": 4,
  "nbformat_minor": 5
}
